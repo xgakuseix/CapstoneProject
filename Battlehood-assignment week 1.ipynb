{
 "cells": [
  {
   "cell_type": "markdown",
   "metadata": {},
   "source": [
    "## What Should I Serve?\n",
    "A Study of Restaurants in Penang Island Neighborhoods\n",
    "\n",
    "\n",
    "## Introduction\n",
    "Imagine for a moment that you are an restaurantuer from a different countries looking for new opportunties in the city of Penang Islands, Malaysia. You want to open a restaurant overthere because it has high prospect in getting closed to your food lovers. There is a downside to going to such a popular food desitnation, however. There are already hundreds, if not thousands, of thriving restaurants competing for local and tourist dollars alike. YOu know that you have to find some way to stand out in the crowd. How can you find that 'x factor' to make your new restaurant different from all the others?\n",
    "\n",
    "Data Science, of course! You decide that that what you need to do is get a deeper look at the restaurants currently serving the diverse and liveley neighborhoods in Penang Islands. Each area of the city is home to restaurants serving diffrent menus to different clientle. In order to stand out from the crowd, you need to know what each neighborhood contains, and what each neighborhood lacks. Your plan is to find an area the Big Easy that isn't too crowded, but still has thriving businesses, and then to open up a new eatery that is serving something unlike all the others.\n",
    "\n",
    "Key Questions:\n",
    "\n",
    "1.How many restaraunts are in each of the neighborhoods in Penang?\n",
    "2.What type of food do those restraunts serve?\n",
    "3.Where is there room in the market for something new?\n",
    "4.What would be a unique food to serve in that neighborhood?\n",
    "\n",
    "\n",
    "## About the Data\n",
    "Based on the questions we are trying to answer, we need to collect data on a few different topics. First, we need to know more about the neighborhoods of Penang Islands. Luckily, Wikipedia has a very helpful table of all the neighborhoods and thier geographic coordinates that we can use.\n",
    "\n",
    "Next, we need to be able to identify the number and type of restraunts in a given neighborhood. We will use the Foursquare API to help us find and identify this information. This API will allow us to search for businesses and venues around a given geogrpahic point (like the neighborhood information from Wikipedia) and find out how many and what types of businesses are in that area. We will clean that up and group it to make an easier to follow listing of business types, then remove anything that isn't a restaurant for final analysis.\n",
    "\n",
    "Finally, we will combine this information and perform analysis and visualization techniques using pandas, numpy, folium and other packages to decide how densely packed a neighborhood is with restaurants as well as to idenify the types of restaurants that are located in each neighborhood. We will use k-means clustering to examine the commonality of types of restaurants and provide raw counts of businesses for consideration.\n",
    "\n",
    "In the end, we should be able to develop a simple search and retrieve function that allows you to input a neighborhood name, and get back an interactive map with the information you are looking for.\n"
   ]
  },
  {
   "cell_type": "markdown",
   "metadata": {},
   "source": [
    "# Methodolgy\n",
    "\n",
    "\n",
    "To complete the analysis, there were several steps of data gathering, cleaning, and analysis. Data was pulled from Wikipedia and the FourSquare API, cleaned using the padas and BeautifulSoup libraries, and stored into pandas dataframes. Data was assembled to align latitude and longitude coordinates with neighborhood names in New Orleans, and that was mapped using the folium library.\n",
    "\n",
    "The Foursquare API was used to find the (up to) 100 closest restaurants to each neighborhood center. That data was used to conduct k-means clustering, organizing the neighborhoods into few categories for consideration.\n",
    "\n",
    "This was charted again using the folium library to show both the clustering/category for each neighborhood along with the density of restaraunts in teh form of a heat/bubble map.\n",
    "\n",
    "The Foursquare API data was then used to develop a charting system to show the relative frequency of each type of restaurant in a given district.\n",
    "\n"
   ]
  },
  {
   "cell_type": "markdown",
   "metadata": {},
   "source": [
    "## Discussion\n",
    "\n",
    "\n",
    "Much of this work is based on dynamic data sources, so it will need to be run again to get an accurate understanding of the current market. That being said, the I confident that the work demonstrates an analysis of two key deciding factors for establishing a new business: market need and competition density. You want to land in a spot that allows you to thrive, but that doesn't cut you off from a customer base.\n",
    "\n",
    "Expansion of the study could include exploring the values of commercial real estate in the neighborhoods as well as the general population of those areas. This would allow for a more robust decision making matrix for potential restaurateurs.\n",
    "\n",
    "Another possible point of improvement is in the radius/maximum count for the use of the Foursquare API.\n",
    "More fine tuning to the model would allow for a more accurate picture of each neighborhood. One could also explore the possibility of bounding the neighborhoods and filtering by restaurants that fall within the bounds.\n",
    "\n"
   ]
  },
  {
   "cell_type": "markdown",
   "metadata": {},
   "source": [
    "# Note\n",
    "\n",
    "Location that has been set on above idea is subjective.\n",
    "I may change it to different place depend on data Flexibility.\n"
   ]
  },
  {
   "cell_type": "code",
   "execution_count": null,
   "metadata": {},
   "outputs": [],
   "source": []
  },
  {
   "cell_type": "code",
   "execution_count": null,
   "metadata": {},
   "outputs": [],
   "source": []
  },
  {
   "cell_type": "code",
   "execution_count": null,
   "metadata": {},
   "outputs": [],
   "source": []
  },
  {
   "cell_type": "code",
   "execution_count": null,
   "metadata": {},
   "outputs": [],
   "source": []
  },
  {
   "cell_type": "code",
   "execution_count": null,
   "metadata": {},
   "outputs": [],
   "source": []
  }
 ],
 "metadata": {
  "kernelspec": {
   "display_name": "Python",
   "language": "python",
   "name": "conda-env-python-py"
  },
  "language_info": {
   "codemirror_mode": {
    "name": "ipython",
    "version": 3
   },
   "file_extension": ".py",
   "mimetype": "text/x-python",
   "name": "python",
   "nbconvert_exporter": "python",
   "pygments_lexer": "ipython3",
   "version": "3.6.11"
  }
 },
 "nbformat": 4,
 "nbformat_minor": 4
}
